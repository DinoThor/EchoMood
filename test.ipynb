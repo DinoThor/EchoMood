{
 "cells": [
  {
   "cell_type": "code",
   "execution_count": 1,
   "metadata": {},
   "outputs": [
    {
     "name": "stderr",
     "output_type": "stream",
     "text": [
      "2024-06-04 11:37:01.416021: I tensorflow/core/util/port.cc:113] oneDNN custom operations are on. You may see slightly different numerical results due to floating-point round-off errors from different computation orders. To turn them off, set the environment variable `TF_ENABLE_ONEDNN_OPTS=0`.\n",
      "2024-06-04 11:37:01.417337: I external/local_tsl/tsl/cuda/cudart_stub.cc:32] Could not find cuda drivers on your machine, GPU will not be used.\n",
      "2024-06-04 11:37:01.476796: I external/local_tsl/tsl/cuda/cudart_stub.cc:32] Could not find cuda drivers on your machine, GPU will not be used.\n",
      "2024-06-04 11:37:01.714823: I tensorflow/core/platform/cpu_feature_guard.cc:210] This TensorFlow binary is optimized to use available CPU instructions in performance-critical operations.\n",
      "To enable the following instructions: AVX2 AVX_VNNI FMA, in other operations, rebuild TensorFlow with the appropriate compiler flags.\n",
      "2024-06-04 11:37:02.752176: W tensorflow/compiler/tf2tensorrt/utils/py_utils.cc:38] TF-TRT Warning: Could not find TensorRT\n"
     ]
    }
   ],
   "source": [
    "import os\n",
    "import numpy as np\n",
    "import matplotlib.pyplot as plt\n",
    "from scipy.io import wavfile\n",
    "from scipy.signal import spectrogram\n",
    "import tensorflow as tf\n",
    "import random\n",
    "import keras\n",
    "from keras.utils import to_categorical\n",
    "from tensorflow.keras.models import Sequential\n",
    "from tensorflow.keras.layers import LSTM, Dense, Masking, Dropout\n",
    "\n",
    "import librosa"
   ]
  },
  {
   "cell_type": "code",
   "execution_count": 2,
   "metadata": {},
   "outputs": [],
   "source": [
    "fileList = {}\n",
    "emotionClass = {\n",
    "    \"Happy\": 0,\n",
    "    \"Angry\": 1,\n",
    "    \"Suprised\": 2,\n",
    "    \"Sad\": 3,\n",
    "    \"Fearful\": 4,\n",
    "    \"Neutral\": 5,\n",
    "    \"Disgusted\": 6,\n",
    "}\n",
    "# KAGGLE ===================\n",
    "# BASE_PATH = '/kaggle/input/audio-emotions/Emotions/'\n",
    "# for emotion in os.listdir(BASE_PATH):\n",
    "#     fileList[emotion] = []\n",
    "#     for file in os.listdir(f\"{BASE_PATH}/{emotion}\"):\n",
    "#         fileList[emotion].append(f\"{BASE_PATH}{emotion}/{file}\")\n",
    "\n",
    "for emotion in os.listdir(\"./archive/Emotions\"):\n",
    "    fileList[emotion] = []\n",
    "    counter = 0\n",
    "    for file in os.listdir(f\"{\"./archive/Emotions\"}/{emotion}\"):\n",
    "        fileList[emotion].append(f\"{\"./archive/Emotions/\"}{emotion}/{file}\")\n",
    "        counter += 1\n",
    "        if counter > 40: break"
   ]
  },
  {
   "cell_type": "code",
   "execution_count": null,
   "metadata": {},
   "outputs": [],
   "source": [
    "for k, v in fileList.items():\n",
    "    print(f\"{k:10s} ==> {len(v)}\")\n",
    "\n",
    "# Lee el archivo WAV\n",
    "sample_rate, data = wavfile.read(fileList[\"Neutral\"][5])"
   ]
  },
  {
   "cell_type": "code",
   "execution_count": 88,
   "metadata": {},
   "outputs": [
    {
     "name": "stdout",
     "output_type": "stream",
     "text": [
      "[[0], [0], [0], [0], [0], [0], [0], [0], [0], [0], [0], [0], [0], [0], [0], [0], [0], [0], [0], [0], [0], [1], [1], [1], [1], [1], [1], [1], [1], [1], [1], [1], [1], [1], [1], [1], [1], [1], [1], [1], [1], [1], [2], [2], [2], [2], [2], [2], [2], [2], [2], [2], [2], [2], [2], [2], [2], [2], [2], [2], [2], [2], [2], [3], [3], [3], [3], [3], [3], [3], [3], [3], [3], [3], [3], [3], [3], [3], [3], [3], [3], [3], [3], [3], [4], [4], [4], [4], [4], [4], [4], [4], [4], [4], [4], [4], [4], [4], [4], [4], [4], [4], [4], [4], [4], [5], [5], [5], [5], [5], [5], [5], [5], [5], [5], [5], [5], [5], [5], [5], [5], [5], [5], [5], [5], [5], [6], [6], [6], [6], [6], [6], [6], [6], [6], [6], [6], [6], [6], [6], [6], [6], [6], [6], [6], [6], [6]]\n",
      "<class 'numpy.ndarray'>\n"
     ]
    }
   ],
   "source": [
    "train = []\n",
    "max_length = -1\n",
    "mfcc_number = 15\n",
    "\n",
    "# Calcula el espectrograma\n",
    "for emotion, filePath in fileList.items():\n",
    "    for file in filePath:\n",
    "        sample_rate, data = wavfile.read(file)\n",
    "\n",
    "        # y, sr   = librosa.load(file)\n",
    "        # mfcc    = librosa.feature.mfcc(y=y, n_mfcc=mfcc_number, sr=sr)\n",
    "\n",
    "        frequencies, times, spectrogram_data = spectrogram(data, fs=sample_rate)\n",
    "        spectrogram_data = spectrogram_data.T\n",
    "\n",
    "        train.append(\n",
    "            (\n",
    "                spectrogram_data.T,\n",
    "                # mfcc.T,\n",
    "                [emotionClass[emotion]],\n",
    "            )\n",
    "        )\n",
    "\n",
    "        if np.shape(mfcc.T)[0] > max_length:\n",
    "            max_length = np.shape(mfcc.T)[0]\n",
    "\n",
    "X_train = list(list(zip(*train))[0])\n",
    "Y_train = list(list(zip(*train))[1])\n",
    "print(Y_train)\n",
    "# Y_train = list(map(lambda a: to_categorical([a], num_classes=7), Y_train))\n",
    "Y_train = to_categorical(Y_train, num_classes=7)\n",
    "\n",
    "for index, element in enumerate(X_train):\n",
    "    original_shape = np.shape(element)[0]\n",
    "    array_zeros = np.zeros((max_length, mfcc_number))\n",
    "    array_zeros[:original_shape, :] = element\n",
    "    X_train[index] = array_zeros\n",
    "\n",
    "    # array_tag = to_categorical(np.array([Y_train[index]]), num_classes=7)\n",
    "    # array_tag = np.repeat(array_tag, original_shape, axis=0)    \n",
    "    # array_zeros = np.zeros((max_length, 7))\n",
    "    # array_zeros[:original_shape, :] = array_tag\n",
    "\n",
    "    # Y_train[index] = array_zeros  \n",
    "# print(np.shape(Y_train))\n",
    "\n",
    "np.concatenate(X_train, axis=0)\n",
    "X_train = np.array(X_train)\n",
    "# np.concatenate(Y_train, axis=0)\n",
    "\n",
    "print(type(X_train))\n"
   ]
  },
  {
   "cell_type": "code",
   "execution_count": 96,
   "metadata": {},
   "outputs": [
    {
     "name": "stdout",
     "output_type": "stream",
     "text": [
      "Epoch 1/20\n"
     ]
    },
    {
     "name": "stderr",
     "output_type": "stream",
     "text": [
      "/home/aaron/miniconda/envs/audio/lib/python3.12/site-packages/keras/src/layers/core/masking.py:47: UserWarning: Do not pass an `input_shape`/`input_dim` argument to a layer. When using Sequential models, prefer using an `Input(shape)` object as the first layer in the model instead.\n",
      "  super().__init__(**kwargs)\n"
     ]
    },
    {
     "name": "stdout",
     "output_type": "stream",
     "text": [
      "\u001b[1m5/5\u001b[0m \u001b[32m━━━━━━━━━━━━━━━━━━━━\u001b[0m\u001b[37m\u001b[0m \u001b[1m1s\u001b[0m 82ms/step - accuracy: 0.1847 - loss: 1.9802\n",
      "Epoch 2/20\n",
      "\u001b[1m5/5\u001b[0m \u001b[32m━━━━━━━━━━━━━━━━━━━━\u001b[0m\u001b[37m\u001b[0m \u001b[1m0s\u001b[0m 79ms/step - accuracy: 0.1506 - loss: 1.9234\n",
      "Epoch 3/20\n",
      "\u001b[1m5/5\u001b[0m \u001b[32m━━━━━━━━━━━━━━━━━━━━\u001b[0m\u001b[37m\u001b[0m \u001b[1m0s\u001b[0m 78ms/step - accuracy: 0.2548 - loss: 1.8570\n",
      "Epoch 4/20\n",
      "\u001b[1m5/5\u001b[0m \u001b[32m━━━━━━━━━━━━━━━━━━━━\u001b[0m\u001b[37m\u001b[0m \u001b[1m0s\u001b[0m 82ms/step - accuracy: 0.2246 - loss: 1.8588\n",
      "Epoch 5/20\n",
      "\u001b[1m5/5\u001b[0m \u001b[32m━━━━━━━━━━━━━━━━━━━━\u001b[0m\u001b[37m\u001b[0m \u001b[1m0s\u001b[0m 78ms/step - accuracy: 0.2261 - loss: 1.8365\n",
      "Epoch 6/20\n",
      "\u001b[1m5/5\u001b[0m \u001b[32m━━━━━━━━━━━━━━━━━━━━\u001b[0m\u001b[37m\u001b[0m \u001b[1m0s\u001b[0m 83ms/step - accuracy: 0.2150 - loss: 1.8057\n",
      "Epoch 7/20\n",
      "\u001b[1m5/5\u001b[0m \u001b[32m━━━━━━━━━━━━━━━━━━━━\u001b[0m\u001b[37m\u001b[0m \u001b[1m0s\u001b[0m 85ms/step - accuracy: 0.2848 - loss: 1.7749\n",
      "Epoch 8/20\n",
      "\u001b[1m5/5\u001b[0m \u001b[32m━━━━━━━━━━━━━━━━━━━━\u001b[0m\u001b[37m\u001b[0m \u001b[1m0s\u001b[0m 82ms/step - accuracy: 0.3101 - loss: 1.7230\n",
      "Epoch 9/20\n",
      "\u001b[1m5/5\u001b[0m \u001b[32m━━━━━━━━━━━━━━━━━━━━\u001b[0m\u001b[37m\u001b[0m \u001b[1m0s\u001b[0m 85ms/step - accuracy: 0.2908 - loss: 1.7352\n",
      "Epoch 10/20\n",
      "\u001b[1m5/5\u001b[0m \u001b[32m━━━━━━━━━━━━━━━━━━━━\u001b[0m\u001b[37m\u001b[0m \u001b[1m0s\u001b[0m 82ms/step - accuracy: 0.3699 - loss: 1.6763\n",
      "Epoch 11/20\n",
      "\u001b[1m5/5\u001b[0m \u001b[32m━━━━━━━━━━━━━━━━━━━━\u001b[0m\u001b[37m\u001b[0m \u001b[1m0s\u001b[0m 70ms/step - accuracy: 0.4098 - loss: 1.6575\n",
      "Epoch 12/20\n",
      "\u001b[1m5/5\u001b[0m \u001b[32m━━━━━━━━━━━━━━━━━━━━\u001b[0m\u001b[37m\u001b[0m \u001b[1m0s\u001b[0m 80ms/step - accuracy: 0.4480 - loss: 1.6442\n",
      "Epoch 13/20\n",
      "\u001b[1m5/5\u001b[0m \u001b[32m━━━━━━━━━━━━━━━━━━━━\u001b[0m\u001b[37m\u001b[0m \u001b[1m0s\u001b[0m 81ms/step - accuracy: 0.4897 - loss: 1.5931\n",
      "Epoch 14/20\n",
      "\u001b[1m5/5\u001b[0m \u001b[32m━━━━━━━━━━━━━━━━━━━━\u001b[0m\u001b[37m\u001b[0m \u001b[1m0s\u001b[0m 77ms/step - accuracy: 0.5119 - loss: 1.5771\n",
      "Epoch 15/20\n",
      "\u001b[1m5/5\u001b[0m \u001b[32m━━━━━━━━━━━━━━━━━━━━\u001b[0m\u001b[37m\u001b[0m \u001b[1m0s\u001b[0m 84ms/step - accuracy: 0.5602 - loss: 1.5437\n",
      "Epoch 16/20\n",
      "\u001b[1m5/5\u001b[0m \u001b[32m━━━━━━━━━━━━━━━━━━━━\u001b[0m\u001b[37m\u001b[0m \u001b[1m0s\u001b[0m 76ms/step - accuracy: 0.6056 - loss: 1.4793\n",
      "Epoch 17/20\n",
      "\u001b[1m5/5\u001b[0m \u001b[32m━━━━━━━━━━━━━━━━━━━━\u001b[0m\u001b[37m\u001b[0m \u001b[1m0s\u001b[0m 80ms/step - accuracy: 0.5600 - loss: 1.4796\n",
      "Epoch 18/20\n",
      "\u001b[1m5/5\u001b[0m \u001b[32m━━━━━━━━━━━━━━━━━━━━\u001b[0m\u001b[37m\u001b[0m \u001b[1m0s\u001b[0m 82ms/step - accuracy: 0.5576 - loss: 1.4685\n",
      "Epoch 19/20\n",
      "\u001b[1m5/5\u001b[0m \u001b[32m━━━━━━━━━━━━━━━━━━━━\u001b[0m\u001b[37m\u001b[0m \u001b[1m0s\u001b[0m 79ms/step - accuracy: 0.5195 - loss: 1.4366\n",
      "Epoch 20/20\n",
      "\u001b[1m5/5\u001b[0m \u001b[32m━━━━━━━━━━━━━━━━━━━━\u001b[0m\u001b[37m\u001b[0m \u001b[1m0s\u001b[0m 78ms/step - accuracy: 0.5570 - loss: 1.3998\n"
     ]
    },
    {
     "data": {
      "text/plain": [
       "<keras.src.callbacks.history.History at 0x7125d07b6ae0>"
      ]
     },
     "execution_count": 96,
     "metadata": {},
     "output_type": "execute_result"
    }
   ],
   "source": [
    "# Definir el modelo\n",
    "model = Sequential()\n",
    "model.add(Masking(mask_value=0.0, input_shape=(None, mfcc_number)))\n",
    "model.add(LSTM(128, input_shape=(None)))\n",
    "# model.add(Dropout(0.3))ç\n",
    "model.add(Dense(32, activation=\"relu\"))\n",
    "model.add(Dense(7, activation='softmax'))\n",
    "model.compile(optimizer='adam', loss='categorical_crossentropy', metrics=['accuracy'])\n",
    "\n",
    "# Mostrar resumen del modelo\n",
    "# model.summary()\n",
    "\n",
    "model.fit(X_train, Y_train, epochs=20, batch_size=32, shuffle=True)"
   ]
  }
 ],
 "metadata": {
  "kernelspec": {
   "display_name": "audio",
   "language": "python",
   "name": "python3"
  },
  "language_info": {
   "codemirror_mode": {
    "name": "ipython",
    "version": 3
   },
   "file_extension": ".py",
   "mimetype": "text/x-python",
   "name": "python",
   "nbconvert_exporter": "python",
   "pygments_lexer": "ipython3",
   "version": "3.12.3"
  }
 },
 "nbformat": 4,
 "nbformat_minor": 2
}
