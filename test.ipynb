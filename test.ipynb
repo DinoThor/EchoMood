{
 "cells": [
  {
   "cell_type": "code",
   "execution_count": 218,
   "metadata": {},
   "outputs": [],
   "source": [
    "import os\n",
    "import numpy as np\n",
    "import matplotlib.pyplot as plt\n",
    "from scipy.io import wavfile\n",
    "from scipy.signal import spectrogram\n",
    "import tensorflow as tf\n",
    "import random\n",
    "import keras\n",
    "from keras.utils import to_categorical\n",
    "from tensorflow.keras.models import Sequential\n",
    "from tensorflow.keras.layers import LSTM, Dense, Masking"
   ]
  },
  {
   "cell_type": "code",
   "execution_count": 56,
   "metadata": {},
   "outputs": [
    {
     "name": "stdout",
     "output_type": "stream",
     "text": [
      "21\n"
     ]
    }
   ],
   "source": [
    "fileList = {}\n",
    "emotionClass = {\n",
    "    \"Happy\": 0,\n",
    "    \"Angry\": 1,\n",
    "    \"Suprised\": 2,\n",
    "    \"Sad\": 3,\n",
    "    \"Fearful\": 4,\n",
    "    \"Neutral\": 5,\n",
    "    \"Disgusted\": 6,\n",
    "}\n",
    "# KAGGLE ===================\n",
    "# BASE_PATH = '/kaggle/input/audio-emotions/Emotions/'\n",
    "# for emotion in os.listdir(BASE_PATH):\n",
    "#     fileList[emotion] = []\n",
    "#     for file in os.listdir(f\"{BASE_PATH}/{emotion}\"):\n",
    "#         fileList[emotion].append(f\"{BASE_PATH}{emotion}/{file}\")\n",
    "\n",
    "for emotion in os.listdir(\"./archive/Emotions\"):\n",
    "    fileList[emotion] = []\n",
    "    counter = 0\n",
    "    for file in os.listdir(f\"{\"./archive/Emotions\"}/{emotion}\"):\n",
    "        fileList[emotion].append(f\"{\"./archive/Emotions/\"}{emotion}/{file}\")\n",
    "        counter += 1\n",
    "        if counter > 20: break\n",
    "        \n",
    "# file = os.path.dirname(os.path.abspath(__name__)) + \"/03-01-05-01-01-01-16.wav\"\n",
    "# sample_rate, data = wavfile.read(file)"
   ]
  },
  {
   "cell_type": "code",
   "execution_count": null,
   "metadata": {},
   "outputs": [],
   "source": [
    "for k, v in fileList.items():\n",
    "    print(f\"{k:10s} ==> {len(v)}\")\n",
    "\n",
    "# Lee el archivo WAV\n",
    "sample_rate, data = wavfile.read(fileList[\"Neutral\"][5])"
   ]
  },
  {
   "cell_type": "code",
   "execution_count": 273,
   "metadata": {},
   "outputs": [
    {
     "name": "stderr",
     "output_type": "stream",
     "text": [
      "/tmp/ipykernel_6038/2977063094.py:7: WavFileWarning: Chunk (non-data) not understood, skipping it.\n",
      "  sample_rate, data = wavfile.read(file)\n"
     ]
    }
   ],
   "source": [
    "train = []\n",
    "max_length = -1\n",
    "\n",
    "# Calcula el espectrograma\n",
    "for emotion, filePath in fileList.items():\n",
    "    for file in filePath:\n",
    "        sample_rate, data = wavfile.read(file)\n",
    "\n",
    "        frequencies, times, spectrogram_data = spectrogram(data, fs=sample_rate)\n",
    "        spectrogram_data = spectrogram_data.T\n",
    "\n",
    "        tag = emotionClass[emotion]\n",
    "\n",
    "        train.append(\n",
    "            (\n",
    "                spectrogram_data,\n",
    "                tag,\n",
    "            )\n",
    "        )\n",
    "\n",
    "        if np.shape(spectrogram_data)[0] > max_length:\n",
    "            max_length = np.shape(spectrogram_data)[0]\n",
    "\n",
    "X_train = list(list(zip(*train))[0])\n",
    "Y_train = list(list(zip(*train))[1])\n",
    "\n",
    "# for index, element in enumerate(X_train):\n",
    "#     original_shape = np.shape(element)[0]\n",
    "#     array_zeros = np.zeros((max_length, 129))\n",
    "#     array_zeros[:original_shape, :] = element\n",
    "#     X_train[index] = array_zeros\n",
    "\n",
    "#     array_tag = to_categorical(np.array([Y_train[index]]), num_classes=7)\n",
    "#     array_tag = np.repeat(array_tag, original_shape, axis=0)    \n",
    "#     array_zeros = np.zeros((max_length, 7))\n",
    "#     array_zeros[:original_shape, :] = array_tag\n",
    "\n",
    "#     Y_train[index] = array_zeros  \n",
    "\n",
    "# np.concatenate(X_train, axis=0)\n",
    "# np.concatenate(Y_train, axis=0)\n",
    "\n",
    "# print(np.shape(X_train), np.shape(Y_train))\n"
   ]
  },
  {
   "cell_type": "code",
   "execution_count": 249,
   "metadata": {},
   "outputs": [
    {
     "data": {
      "text/html": [
       "<pre style=\"white-space:pre;overflow-x:auto;line-height:normal;font-family:Menlo,'DejaVu Sans Mono',consolas,'Courier New',monospace\"><span style=\"font-weight: bold\">Model: \"sequential_34\"</span>\n",
       "</pre>\n"
      ],
      "text/plain": [
       "\u001b[1mModel: \"sequential_34\"\u001b[0m\n"
      ]
     },
     "metadata": {},
     "output_type": "display_data"
    },
    {
     "data": {
      "text/html": [
       "<pre style=\"white-space:pre;overflow-x:auto;line-height:normal;font-family:Menlo,'DejaVu Sans Mono',consolas,'Courier New',monospace\">┏━━━━━━━━━━━━━━━━━━━━━━━━━━━━━━━━━┳━━━━━━━━━━━━━━━━━━━━━━━━┳━━━━━━━━━━━━━━━┓\n",
       "┃<span style=\"font-weight: bold\"> Layer (type)                    </span>┃<span style=\"font-weight: bold\"> Output Shape           </span>┃<span style=\"font-weight: bold\">       Param # </span>┃\n",
       "┡━━━━━━━━━━━━━━━━━━━━━━━━━━━━━━━━━╇━━━━━━━━━━━━━━━━━━━━━━━━╇━━━━━━━━━━━━━━━┩\n",
       "│ lstm_33 (<span style=\"color: #0087ff; text-decoration-color: #0087ff\">LSTM</span>)                  │ (<span style=\"color: #00d7ff; text-decoration-color: #00d7ff\">None</span>, <span style=\"color: #00af00; text-decoration-color: #00af00\">100</span>)            │        <span style=\"color: #00af00; text-decoration-color: #00af00\">92,000</span> │\n",
       "├─────────────────────────────────┼────────────────────────┼───────────────┤\n",
       "│ dense_30 (<span style=\"color: #0087ff; text-decoration-color: #0087ff\">Dense</span>)                │ (<span style=\"color: #00d7ff; text-decoration-color: #00d7ff\">None</span>, <span style=\"color: #00af00; text-decoration-color: #00af00\">7</span>)              │           <span style=\"color: #00af00; text-decoration-color: #00af00\">707</span> │\n",
       "└─────────────────────────────────┴────────────────────────┴───────────────┘\n",
       "</pre>\n"
      ],
      "text/plain": [
       "┏━━━━━━━━━━━━━━━━━━━━━━━━━━━━━━━━━┳━━━━━━━━━━━━━━━━━━━━━━━━┳━━━━━━━━━━━━━━━┓\n",
       "┃\u001b[1m \u001b[0m\u001b[1mLayer (type)                   \u001b[0m\u001b[1m \u001b[0m┃\u001b[1m \u001b[0m\u001b[1mOutput Shape          \u001b[0m\u001b[1m \u001b[0m┃\u001b[1m \u001b[0m\u001b[1m      Param #\u001b[0m\u001b[1m \u001b[0m┃\n",
       "┡━━━━━━━━━━━━━━━━━━━━━━━━━━━━━━━━━╇━━━━━━━━━━━━━━━━━━━━━━━━╇━━━━━━━━━━━━━━━┩\n",
       "│ lstm_33 (\u001b[38;5;33mLSTM\u001b[0m)                  │ (\u001b[38;5;45mNone\u001b[0m, \u001b[38;5;34m100\u001b[0m)            │        \u001b[38;5;34m92,000\u001b[0m │\n",
       "├─────────────────────────────────┼────────────────────────┼───────────────┤\n",
       "│ dense_30 (\u001b[38;5;33mDense\u001b[0m)                │ (\u001b[38;5;45mNone\u001b[0m, \u001b[38;5;34m7\u001b[0m)              │           \u001b[38;5;34m707\u001b[0m │\n",
       "└─────────────────────────────────┴────────────────────────┴───────────────┘\n"
      ]
     },
     "metadata": {},
     "output_type": "display_data"
    },
    {
     "data": {
      "text/html": [
       "<pre style=\"white-space:pre;overflow-x:auto;line-height:normal;font-family:Menlo,'DejaVu Sans Mono',consolas,'Courier New',monospace\"><span style=\"font-weight: bold\"> Total params: </span><span style=\"color: #00af00; text-decoration-color: #00af00\">92,707</span> (362.14 KB)\n",
       "</pre>\n"
      ],
      "text/plain": [
       "\u001b[1m Total params: \u001b[0m\u001b[38;5;34m92,707\u001b[0m (362.14 KB)\n"
      ]
     },
     "metadata": {},
     "output_type": "display_data"
    },
    {
     "data": {
      "text/html": [
       "<pre style=\"white-space:pre;overflow-x:auto;line-height:normal;font-family:Menlo,'DejaVu Sans Mono',consolas,'Courier New',monospace\"><span style=\"font-weight: bold\"> Trainable params: </span><span style=\"color: #00af00; text-decoration-color: #00af00\">92,707</span> (362.14 KB)\n",
       "</pre>\n"
      ],
      "text/plain": [
       "\u001b[1m Trainable params: \u001b[0m\u001b[38;5;34m92,707\u001b[0m (362.14 KB)\n"
      ]
     },
     "metadata": {},
     "output_type": "display_data"
    },
    {
     "data": {
      "text/html": [
       "<pre style=\"white-space:pre;overflow-x:auto;line-height:normal;font-family:Menlo,'DejaVu Sans Mono',consolas,'Courier New',monospace\"><span style=\"font-weight: bold\"> Non-trainable params: </span><span style=\"color: #00af00; text-decoration-color: #00af00\">0</span> (0.00 B)\n",
       "</pre>\n"
      ],
      "text/plain": [
       "\u001b[1m Non-trainable params: \u001b[0m\u001b[38;5;34m0\u001b[0m (0.00 B)\n"
      ]
     },
     "metadata": {},
     "output_type": "display_data"
    }
   ],
   "source": [
    "# Definir el modelo\n",
    "model = Sequential()\n",
    "# model.add(Masking(mask_value=0.0, input_shape=(max_length, 129)))\n",
    "model.add(LSTM(100, return_sequences=False, input_shape=(max_length, 129)))\n",
    "model.add(Dense(7, activation='softmax'))\n",
    "model.compile(optimizer='adam', loss='categorical_crossentropy', metrics=['accuracy'])\n",
    "\n",
    "# Mostrar resumen del modelo\n",
    "model.summary()"
   ]
  },
  {
   "cell_type": "code",
   "execution_count": 263,
   "metadata": {},
   "outputs": [
    {
     "name": "stdout",
     "output_type": "stream",
     "text": [
      "Epoch 1/20\n"
     ]
    },
    {
     "ename": "ValueError",
     "evalue": "Exception encountered when calling Sequential.call().\n\n\u001b[1mInvalid input shape for input Tensor(\"data:0\", shape=(1029, 129), dtype=float32). Expected shape (None, 1029, 129), but input has incompatible shape (1029, 129)\u001b[0m\n\nArguments received by Sequential.call():\n  • inputs=('tf.Tensor(shape=(1029, 129), dtype=float32)', 'tf.Tensor(shape=(1029, 129), dtype=float32)', 'tf.Tensor(shape=(1029, 129), dtype=float32)', 'tf.Tensor(shape=(1029, 129), dtype=float32)', 'tf.Tensor(shape=(1029, 129), dtype=float32)', 'tf.Tensor(shape=(1029, 129), dtype=float32)', 'tf.Tensor(shape=(1029, 129), dtype=float32)', 'tf.Tensor(shape=(1029, 129), dtype=float32)', 'tf.Tensor(shape=(1029, 129), dtype=float32)', 'tf.Tensor(shape=(1029, 129), dtype=float32)', 'tf.Tensor(shape=(1029, 129), dtype=float32)', 'tf.Tensor(shape=(1029, 129), dtype=float32)', 'tf.Tensor(shape=(1029, 129), dtype=float32)', 'tf.Tensor(shape=(1029, 129), dtype=float32)', 'tf.Tensor(shape=(1029, 129), dtype=float32)', 'tf.Tensor(shape=(1029, 129), dtype=float32)', 'tf.Tensor(shape=(1029, 129), dtype=float32)', 'tf.Tensor(shape=(1029, 129), dtype=float32)', 'tf.Tensor(shape=(1029, 129), dtype=float32)', 'tf.Tensor(shape=(1029, 129), dtype=float32)', 'tf.Tensor(shape=(1029, 129), dtype=float32)', 'tf.Tensor(shape=(1029, 129), dtype=float32)', 'tf.Tensor(shape=(1029, 129), dtype=float32)', 'tf.Tensor(shape=(1029, 129), dtype=float32)', 'tf.Tensor(shape=(1029, 129), dtype=float32)', 'tf.Tensor(shape=(1029, 129), dtype=float32)', 'tf.Tensor(shape=(1029, 129), dtype=float32)', 'tf.Tensor(shape=(1029, 129), dtype=float32)', 'tf.Tensor(shape=(1029, 129), dtype=float32)', 'tf.Tensor(shape=(1029, 129), dtype=float32)', 'tf.Tensor(shape=(1029, 129), dtype=float32)', 'tf.Tensor(shape=(1029, 129), dtype=float32)', 'tf.Tensor(shape=(1029, 129), dtype=float32)', 'tf.Tensor(shape=(1029, 129), dtype=float32)', 'tf.Tensor(shape=(1029, 129), dtype=float32)', 'tf.Tensor(shape=(1029, 129), dtype=float32)', 'tf.Tensor(shape=(1029, 129), dtype=float32)', 'tf.Tensor(shape=(1029, 129), dtype=float32)', 'tf.Tensor(shape=(1029, 129), dtype=float32)', 'tf.Tensor(shape=(1029, 129), dtype=float32)', 'tf.Tensor(shape=(1029, 129), dtype=float32)', 'tf.Tensor(shape=(1029, 129), dtype=float32)', 'tf.Tensor(shape=(1029, 129), dtype=float32)', 'tf.Tensor(shape=(1029, 129), dtype=float32)', 'tf.Tensor(shape=(1029, 129), dtype=float32)', 'tf.Tensor(shape=(1029, 129), dtype=float32)', 'tf.Tensor(shape=(1029, 129), dtype=float32)', 'tf.Tensor(shape=(1029, 129), dtype=float32)', 'tf.Tensor(shape=(1029, 129), dtype=float32)', 'tf.Tensor(shape=(1029, 129), dtype=float32)', 'tf.Tensor(shape=(1029, 129), dtype=float32)', 'tf.Tensor(shape=(1029, 129), dtype=float32)', 'tf.Tensor(shape=(1029, 129), dtype=float32)', 'tf.Tensor(shape=(1029, 129), dtype=float32)', 'tf.Tensor(shape=(1029, 129), dtype=float32)', 'tf.Tensor(shape=(1029, 129), dtype=float32)', 'tf.Tensor(shape=(1029, 129), dtype=float32)', 'tf.Tensor(shape=(1029, 129), dtype=float32)', 'tf.Tensor(shape=(1029, 129), dtype=float32)', 'tf.Tensor(shape=(1029, 129), dtype=float32)', 'tf.Tensor(shape=(1029, 129), dtype=float32)', 'tf.Tensor(shape=(1029, 129), dtype=float32)', 'tf.Tensor(shape=(1029, 129), dtype=float32)', 'tf.Tensor(shape=(1029, 129), dtype=float32)', 'tf.Tensor(shape=(1029, 129), dtype=float32)', 'tf.Tensor(shape=(1029, 129), dtype=float32)', 'tf.Tensor(shape=(1029, 129), dtype=float32)', 'tf.Tensor(shape=(1029, 129), dtype=float32)', 'tf.Tensor(shape=(1029, 129), dtype=float32)', 'tf.Tensor(shape=(1029, 129), dtype=float32)', 'tf.Tensor(shape=(1029, 129), dtype=float32)', 'tf.Tensor(shape=(1029, 129), dtype=float32)', 'tf.Tensor(shape=(1029, 129), dtype=float32)', 'tf.Tensor(shape=(1029, 129), dtype=float32)', 'tf.Tensor(shape=(1029, 129), dtype=float32)', 'tf.Tensor(shape=(1029, 129), dtype=float32)', 'tf.Tensor(shape=(1029, 129), dtype=float32)', 'tf.Tensor(shape=(1029, 129), dtype=float32)', 'tf.Tensor(shape=(1029, 129), dtype=float32)', 'tf.Tensor(shape=(1029, 129), dtype=float32)', 'tf.Tensor(shape=(1029, 129), dtype=float32)', 'tf.Tensor(shape=(1029, 129), dtype=float32)', 'tf.Tensor(shape=(1029, 129), dtype=float32)', 'tf.Tensor(shape=(1029, 129), dtype=float32)', 'tf.Tensor(shape=(1029, 129), dtype=float32)', 'tf.Tensor(shape=(1029, 129), dtype=float32)', 'tf.Tensor(shape=(1029, 129), dtype=float32)', 'tf.Tensor(shape=(1029, 129), dtype=float32)', 'tf.Tensor(shape=(1029, 129), dtype=float32)', 'tf.Tensor(shape=(1029, 129), dtype=float32)', 'tf.Tensor(shape=(1029, 129), dtype=float32)', 'tf.Tensor(shape=(1029, 129), dtype=float32)', 'tf.Tensor(shape=(1029, 129), dtype=float32)', 'tf.Tensor(shape=(1029, 129), dtype=float32)', 'tf.Tensor(shape=(1029, 129), dtype=float32)', 'tf.Tensor(shape=(1029, 129), dtype=float32)', 'tf.Tensor(shape=(1029, 129), dtype=float32)', 'tf.Tensor(shape=(1029, 129), dtype=float32)', 'tf.Tensor(shape=(1029, 129), dtype=float32)', 'tf.Tensor(shape=(1029, 129), dtype=float32)', 'tf.Tensor(shape=(1029, 129), dtype=float32)', 'tf.Tensor(shape=(1029, 129), dtype=float32)', 'tf.Tensor(shape=(1029, 129), dtype=float32)', 'tf.Tensor(shape=(1029, 129), dtype=float32)', 'tf.Tensor(shape=(1029, 129), dtype=float32)', 'tf.Tensor(shape=(1029, 129), dtype=float32)', 'tf.Tensor(shape=(1029, 129), dtype=float32)', 'tf.Tensor(shape=(1029, 129), dtype=float32)', 'tf.Tensor(shape=(1029, 129), dtype=float32)', 'tf.Tensor(shape=(1029, 129), dtype=float32)', 'tf.Tensor(shape=(1029, 129), dtype=float32)', 'tf.Tensor(shape=(1029, 129), dtype=float32)', 'tf.Tensor(shape=(1029, 129), dtype=float32)', 'tf.Tensor(shape=(1029, 129), dtype=float32)', 'tf.Tensor(shape=(1029, 129), dtype=float32)', 'tf.Tensor(shape=(1029, 129), dtype=float32)', 'tf.Tensor(shape=(1029, 129), dtype=float32)', 'tf.Tensor(shape=(1029, 129), dtype=float32)', 'tf.Tensor(shape=(1029, 129), dtype=float32)', 'tf.Tensor(shape=(1029, 129), dtype=float32)', 'tf.Tensor(shape=(1029, 129), dtype=float32)', 'tf.Tensor(shape=(1029, 129), dtype=float32)', 'tf.Tensor(shape=(1029, 129), dtype=float32)', 'tf.Tensor(shape=(1029, 129), dtype=float32)', 'tf.Tensor(shape=(1029, 129), dtype=float32)', 'tf.Tensor(shape=(1029, 129), dtype=float32)', 'tf.Tensor(shape=(1029, 129), dtype=float32)', 'tf.Tensor(shape=(1029, 129), dtype=float32)', 'tf.Tensor(shape=(1029, 129), dtype=float32)', 'tf.Tensor(shape=(1029, 129), dtype=float32)', 'tf.Tensor(shape=(1029, 129), dtype=float32)', 'tf.Tensor(shape=(1029, 129), dtype=float32)', 'tf.Tensor(shape=(1029, 129), dtype=float32)', 'tf.Tensor(shape=(1029, 129), dtype=float32)', 'tf.Tensor(shape=(1029, 129), dtype=float32)', 'tf.Tensor(shape=(1029, 129), dtype=float32)', 'tf.Tensor(shape=(1029, 129), dtype=float32)', 'tf.Tensor(shape=(1029, 129), dtype=float32)', 'tf.Tensor(shape=(1029, 129), dtype=float32)', 'tf.Tensor(shape=(1029, 129), dtype=float32)', 'tf.Tensor(shape=(1029, 129), dtype=float32)', 'tf.Tensor(shape=(1029, 129), dtype=float32)', 'tf.Tensor(shape=(1029, 129), dtype=float32)', 'tf.Tensor(shape=(1029, 129), dtype=float32)', 'tf.Tensor(shape=(1029, 129), dtype=float32)', 'tf.Tensor(shape=(1029, 129), dtype=float32)', 'tf.Tensor(shape=(1029, 129), dtype=float32)')\n  • training=True\n  • mask=('None', 'None', 'None', 'None', 'None', 'None', 'None', 'None', 'None', 'None', 'None', 'None', 'None', 'None', 'None', 'None', 'None', 'None', 'None', 'None', 'None', 'None', 'None', 'None', 'None', 'None', 'None', 'None', 'None', 'None', 'None', 'None', 'None', 'None', 'None', 'None', 'None', 'None', 'None', 'None', 'None', 'None', 'None', 'None', 'None', 'None', 'None', 'None', 'None', 'None', 'None', 'None', 'None', 'None', 'None', 'None', 'None', 'None', 'None', 'None', 'None', 'None', 'None', 'None', 'None', 'None', 'None', 'None', 'None', 'None', 'None', 'None', 'None', 'None', 'None', 'None', 'None', 'None', 'None', 'None', 'None', 'None', 'None', 'None', 'None', 'None', 'None', 'None', 'None', 'None', 'None', 'None', 'None', 'None', 'None', 'None', 'None', 'None', 'None', 'None', 'None', 'None', 'None', 'None', 'None', 'None', 'None', 'None', 'None', 'None', 'None', 'None', 'None', 'None', 'None', 'None', 'None', 'None', 'None', 'None', 'None', 'None', 'None', 'None', 'None', 'None', 'None', 'None', 'None', 'None', 'None', 'None', 'None', 'None', 'None', 'None', 'None', 'None', 'None', 'None', 'None', 'None', 'None', 'None', 'None', 'None', 'None')",
     "output_type": "error",
     "traceback": [
      "\u001b[0;31m---------------------------------------------------------------------------\u001b[0m",
      "\u001b[0;31mValueError\u001b[0m                                Traceback (most recent call last)",
      "Cell \u001b[0;32mIn[263], line 4\u001b[0m\n\u001b[1;32m      1\u001b[0m \u001b[38;5;66;03m# print(np.shape(X_train), np.shape(Y_train))\u001b[39;00m\n\u001b[1;32m      2\u001b[0m \u001b[38;5;66;03m# keras.config.enable_traceback_filtering()\u001b[39;00m\n\u001b[1;32m      3\u001b[0m lista \u001b[38;5;241m=\u001b[39m [n \u001b[38;5;28;01mfor\u001b[39;00m n \u001b[38;5;129;01min\u001b[39;00m X_train]\n\u001b[0;32m----> 4\u001b[0m \u001b[43mmodel\u001b[49m\u001b[38;5;241;43m.\u001b[39;49m\u001b[43mfit\u001b[49m\u001b[43m(\u001b[49m\u001b[43mlista\u001b[49m\u001b[43m,\u001b[49m\u001b[43m \u001b[49m\u001b[38;5;28;43mlist\u001b[39;49m\u001b[43m,\u001b[49m\u001b[43m \u001b[49m\u001b[43mepochs\u001b[49m\u001b[38;5;241;43m=\u001b[39;49m\u001b[38;5;241;43m20\u001b[39;49m\u001b[43m,\u001b[49m\u001b[43m \u001b[49m\u001b[43mbatch_size\u001b[49m\u001b[38;5;241;43m=\u001b[39;49m\u001b[38;5;241;43m1029\u001b[39;49m\u001b[43m)\u001b[49m\n\u001b[1;32m      5\u001b[0m model\u001b[38;5;241m.\u001b[39msummary()\n",
      "File \u001b[0;32m~/miniconda/envs/audio/lib/python3.12/site-packages/keras/src/utils/traceback_utils.py:122\u001b[0m, in \u001b[0;36mfilter_traceback.<locals>.error_handler\u001b[0;34m(*args, **kwargs)\u001b[0m\n\u001b[1;32m    119\u001b[0m     filtered_tb \u001b[38;5;241m=\u001b[39m _process_traceback_frames(e\u001b[38;5;241m.\u001b[39m__traceback__)\n\u001b[1;32m    120\u001b[0m     \u001b[38;5;66;03m# To get the full stack trace, call:\u001b[39;00m\n\u001b[1;32m    121\u001b[0m     \u001b[38;5;66;03m# `keras.config.disable_traceback_filtering()`\u001b[39;00m\n\u001b[0;32m--> 122\u001b[0m     \u001b[38;5;28;01mraise\u001b[39;00m e\u001b[38;5;241m.\u001b[39mwith_traceback(filtered_tb) \u001b[38;5;28;01mfrom\u001b[39;00m \u001b[38;5;28;01mNone\u001b[39;00m\n\u001b[1;32m    123\u001b[0m \u001b[38;5;28;01mfinally\u001b[39;00m:\n\u001b[1;32m    124\u001b[0m     \u001b[38;5;28;01mdel\u001b[39;00m filtered_tb\n",
      "File \u001b[0;32m~/miniconda/envs/audio/lib/python3.12/site-packages/keras/src/models/functional.py:288\u001b[0m, in \u001b[0;36mFunctional._adjust_input_rank\u001b[0;34m(self, flat_inputs)\u001b[0m\n\u001b[1;32m    286\u001b[0m             adjusted\u001b[38;5;241m.\u001b[39mappend(ops\u001b[38;5;241m.\u001b[39mexpand_dims(x, axis\u001b[38;5;241m=\u001b[39m\u001b[38;5;241m-\u001b[39m\u001b[38;5;241m1\u001b[39m))\n\u001b[1;32m    287\u001b[0m             \u001b[38;5;28;01mcontinue\u001b[39;00m\n\u001b[0;32m--> 288\u001b[0m     \u001b[38;5;28;01mraise\u001b[39;00m \u001b[38;5;167;01mValueError\u001b[39;00m(\n\u001b[1;32m    289\u001b[0m         \u001b[38;5;124mf\u001b[39m\u001b[38;5;124m\"\u001b[39m\u001b[38;5;124mInvalid input shape for input \u001b[39m\u001b[38;5;132;01m{\u001b[39;00mx\u001b[38;5;132;01m}\u001b[39;00m\u001b[38;5;124m. Expected shape \u001b[39m\u001b[38;5;124m\"\u001b[39m\n\u001b[1;32m    290\u001b[0m         \u001b[38;5;124mf\u001b[39m\u001b[38;5;124m\"\u001b[39m\u001b[38;5;132;01m{\u001b[39;00mref_shape\u001b[38;5;132;01m}\u001b[39;00m\u001b[38;5;124m, but input has incompatible shape \u001b[39m\u001b[38;5;132;01m{\u001b[39;00mx\u001b[38;5;241m.\u001b[39mshape\u001b[38;5;132;01m}\u001b[39;00m\u001b[38;5;124m\"\u001b[39m\n\u001b[1;32m    291\u001b[0m     )\n\u001b[1;32m    292\u001b[0m \u001b[38;5;66;03m# Add back metadata.\u001b[39;00m\n\u001b[1;32m    293\u001b[0m \u001b[38;5;28;01mfor\u001b[39;00m i \u001b[38;5;129;01min\u001b[39;00m \u001b[38;5;28mrange\u001b[39m(\u001b[38;5;28mlen\u001b[39m(flat_inputs)):\n",
      "\u001b[0;31mValueError\u001b[0m: Exception encountered when calling Sequential.call().\n\n\u001b[1mInvalid input shape for input Tensor(\"data:0\", shape=(1029, 129), dtype=float32). Expected shape (None, 1029, 129), but input has incompatible shape (1029, 129)\u001b[0m\n\nArguments received by Sequential.call():\n  • inputs=('tf.Tensor(shape=(1029, 129), dtype=float32)', 'tf.Tensor(shape=(1029, 129), dtype=float32)', 'tf.Tensor(shape=(1029, 129), dtype=float32)', 'tf.Tensor(shape=(1029, 129), dtype=float32)', 'tf.Tensor(shape=(1029, 129), dtype=float32)', 'tf.Tensor(shape=(1029, 129), dtype=float32)', 'tf.Tensor(shape=(1029, 129), dtype=float32)', 'tf.Tensor(shape=(1029, 129), dtype=float32)', 'tf.Tensor(shape=(1029, 129), dtype=float32)', 'tf.Tensor(shape=(1029, 129), dtype=float32)', 'tf.Tensor(shape=(1029, 129), dtype=float32)', 'tf.Tensor(shape=(1029, 129), dtype=float32)', 'tf.Tensor(shape=(1029, 129), dtype=float32)', 'tf.Tensor(shape=(1029, 129), dtype=float32)', 'tf.Tensor(shape=(1029, 129), dtype=float32)', 'tf.Tensor(shape=(1029, 129), dtype=float32)', 'tf.Tensor(shape=(1029, 129), dtype=float32)', 'tf.Tensor(shape=(1029, 129), dtype=float32)', 'tf.Tensor(shape=(1029, 129), dtype=float32)', 'tf.Tensor(shape=(1029, 129), dtype=float32)', 'tf.Tensor(shape=(1029, 129), dtype=float32)', 'tf.Tensor(shape=(1029, 129), dtype=float32)', 'tf.Tensor(shape=(1029, 129), dtype=float32)', 'tf.Tensor(shape=(1029, 129), dtype=float32)', 'tf.Tensor(shape=(1029, 129), dtype=float32)', 'tf.Tensor(shape=(1029, 129), dtype=float32)', 'tf.Tensor(shape=(1029, 129), dtype=float32)', 'tf.Tensor(shape=(1029, 129), dtype=float32)', 'tf.Tensor(shape=(1029, 129), dtype=float32)', 'tf.Tensor(shape=(1029, 129), dtype=float32)', 'tf.Tensor(shape=(1029, 129), dtype=float32)', 'tf.Tensor(shape=(1029, 129), dtype=float32)', 'tf.Tensor(shape=(1029, 129), dtype=float32)', 'tf.Tensor(shape=(1029, 129), dtype=float32)', 'tf.Tensor(shape=(1029, 129), dtype=float32)', 'tf.Tensor(shape=(1029, 129), dtype=float32)', 'tf.Tensor(shape=(1029, 129), dtype=float32)', 'tf.Tensor(shape=(1029, 129), dtype=float32)', 'tf.Tensor(shape=(1029, 129), dtype=float32)', 'tf.Tensor(shape=(1029, 129), dtype=float32)', 'tf.Tensor(shape=(1029, 129), dtype=float32)', 'tf.Tensor(shape=(1029, 129), dtype=float32)', 'tf.Tensor(shape=(1029, 129), dtype=float32)', 'tf.Tensor(shape=(1029, 129), dtype=float32)', 'tf.Tensor(shape=(1029, 129), dtype=float32)', 'tf.Tensor(shape=(1029, 129), dtype=float32)', 'tf.Tensor(shape=(1029, 129), dtype=float32)', 'tf.Tensor(shape=(1029, 129), dtype=float32)', 'tf.Tensor(shape=(1029, 129), dtype=float32)', 'tf.Tensor(shape=(1029, 129), dtype=float32)', 'tf.Tensor(shape=(1029, 129), dtype=float32)', 'tf.Tensor(shape=(1029, 129), dtype=float32)', 'tf.Tensor(shape=(1029, 129), dtype=float32)', 'tf.Tensor(shape=(1029, 129), dtype=float32)', 'tf.Tensor(shape=(1029, 129), dtype=float32)', 'tf.Tensor(shape=(1029, 129), dtype=float32)', 'tf.Tensor(shape=(1029, 129), dtype=float32)', 'tf.Tensor(shape=(1029, 129), dtype=float32)', 'tf.Tensor(shape=(1029, 129), dtype=float32)', 'tf.Tensor(shape=(1029, 129), dtype=float32)', 'tf.Tensor(shape=(1029, 129), dtype=float32)', 'tf.Tensor(shape=(1029, 129), dtype=float32)', 'tf.Tensor(shape=(1029, 129), dtype=float32)', 'tf.Tensor(shape=(1029, 129), dtype=float32)', 'tf.Tensor(shape=(1029, 129), dtype=float32)', 'tf.Tensor(shape=(1029, 129), dtype=float32)', 'tf.Tensor(shape=(1029, 129), dtype=float32)', 'tf.Tensor(shape=(1029, 129), dtype=float32)', 'tf.Tensor(shape=(1029, 129), dtype=float32)', 'tf.Tensor(shape=(1029, 129), dtype=float32)', 'tf.Tensor(shape=(1029, 129), dtype=float32)', 'tf.Tensor(shape=(1029, 129), dtype=float32)', 'tf.Tensor(shape=(1029, 129), dtype=float32)', 'tf.Tensor(shape=(1029, 129), dtype=float32)', 'tf.Tensor(shape=(1029, 129), dtype=float32)', 'tf.Tensor(shape=(1029, 129), dtype=float32)', 'tf.Tensor(shape=(1029, 129), dtype=float32)', 'tf.Tensor(shape=(1029, 129), dtype=float32)', 'tf.Tensor(shape=(1029, 129), dtype=float32)', 'tf.Tensor(shape=(1029, 129), dtype=float32)', 'tf.Tensor(shape=(1029, 129), dtype=float32)', 'tf.Tensor(shape=(1029, 129), dtype=float32)', 'tf.Tensor(shape=(1029, 129), dtype=float32)', 'tf.Tensor(shape=(1029, 129), dtype=float32)', 'tf.Tensor(shape=(1029, 129), dtype=float32)', 'tf.Tensor(shape=(1029, 129), dtype=float32)', 'tf.Tensor(shape=(1029, 129), dtype=float32)', 'tf.Tensor(shape=(1029, 129), dtype=float32)', 'tf.Tensor(shape=(1029, 129), dtype=float32)', 'tf.Tensor(shape=(1029, 129), dtype=float32)', 'tf.Tensor(shape=(1029, 129), dtype=float32)', 'tf.Tensor(shape=(1029, 129), dtype=float32)', 'tf.Tensor(shape=(1029, 129), dtype=float32)', 'tf.Tensor(shape=(1029, 129), dtype=float32)', 'tf.Tensor(shape=(1029, 129), dtype=float32)', 'tf.Tensor(shape=(1029, 129), dtype=float32)', 'tf.Tensor(shape=(1029, 129), dtype=float32)', 'tf.Tensor(shape=(1029, 129), dtype=float32)', 'tf.Tensor(shape=(1029, 129), dtype=float32)', 'tf.Tensor(shape=(1029, 129), dtype=float32)', 'tf.Tensor(shape=(1029, 129), dtype=float32)', 'tf.Tensor(shape=(1029, 129), dtype=float32)', 'tf.Tensor(shape=(1029, 129), dtype=float32)', 'tf.Tensor(shape=(1029, 129), dtype=float32)', 'tf.Tensor(shape=(1029, 129), dtype=float32)', 'tf.Tensor(shape=(1029, 129), dtype=float32)', 'tf.Tensor(shape=(1029, 129), dtype=float32)', 'tf.Tensor(shape=(1029, 129), dtype=float32)', 'tf.Tensor(shape=(1029, 129), dtype=float32)', 'tf.Tensor(shape=(1029, 129), dtype=float32)', 'tf.Tensor(shape=(1029, 129), dtype=float32)', 'tf.Tensor(shape=(1029, 129), dtype=float32)', 'tf.Tensor(shape=(1029, 129), dtype=float32)', 'tf.Tensor(shape=(1029, 129), dtype=float32)', 'tf.Tensor(shape=(1029, 129), dtype=float32)', 'tf.Tensor(shape=(1029, 129), dtype=float32)', 'tf.Tensor(shape=(1029, 129), dtype=float32)', 'tf.Tensor(shape=(1029, 129), dtype=float32)', 'tf.Tensor(shape=(1029, 129), dtype=float32)', 'tf.Tensor(shape=(1029, 129), dtype=float32)', 'tf.Tensor(shape=(1029, 129), dtype=float32)', 'tf.Tensor(shape=(1029, 129), dtype=float32)', 'tf.Tensor(shape=(1029, 129), dtype=float32)', 'tf.Tensor(shape=(1029, 129), dtype=float32)', 'tf.Tensor(shape=(1029, 129), dtype=float32)', 'tf.Tensor(shape=(1029, 129), dtype=float32)', 'tf.Tensor(shape=(1029, 129), dtype=float32)', 'tf.Tensor(shape=(1029, 129), dtype=float32)', 'tf.Tensor(shape=(1029, 129), dtype=float32)', 'tf.Tensor(shape=(1029, 129), dtype=float32)', 'tf.Tensor(shape=(1029, 129), dtype=float32)', 'tf.Tensor(shape=(1029, 129), dtype=float32)', 'tf.Tensor(shape=(1029, 129), dtype=float32)', 'tf.Tensor(shape=(1029, 129), dtype=float32)', 'tf.Tensor(shape=(1029, 129), dtype=float32)', 'tf.Tensor(shape=(1029, 129), dtype=float32)', 'tf.Tensor(shape=(1029, 129), dtype=float32)', 'tf.Tensor(shape=(1029, 129), dtype=float32)', 'tf.Tensor(shape=(1029, 129), dtype=float32)', 'tf.Tensor(shape=(1029, 129), dtype=float32)', 'tf.Tensor(shape=(1029, 129), dtype=float32)', 'tf.Tensor(shape=(1029, 129), dtype=float32)', 'tf.Tensor(shape=(1029, 129), dtype=float32)', 'tf.Tensor(shape=(1029, 129), dtype=float32)', 'tf.Tensor(shape=(1029, 129), dtype=float32)', 'tf.Tensor(shape=(1029, 129), dtype=float32)', 'tf.Tensor(shape=(1029, 129), dtype=float32)')\n  • training=True\n  • mask=('None', 'None', 'None', 'None', 'None', 'None', 'None', 'None', 'None', 'None', 'None', 'None', 'None', 'None', 'None', 'None', 'None', 'None', 'None', 'None', 'None', 'None', 'None', 'None', 'None', 'None', 'None', 'None', 'None', 'None', 'None', 'None', 'None', 'None', 'None', 'None', 'None', 'None', 'None', 'None', 'None', 'None', 'None', 'None', 'None', 'None', 'None', 'None', 'None', 'None', 'None', 'None', 'None', 'None', 'None', 'None', 'None', 'None', 'None', 'None', 'None', 'None', 'None', 'None', 'None', 'None', 'None', 'None', 'None', 'None', 'None', 'None', 'None', 'None', 'None', 'None', 'None', 'None', 'None', 'None', 'None', 'None', 'None', 'None', 'None', 'None', 'None', 'None', 'None', 'None', 'None', 'None', 'None', 'None', 'None', 'None', 'None', 'None', 'None', 'None', 'None', 'None', 'None', 'None', 'None', 'None', 'None', 'None', 'None', 'None', 'None', 'None', 'None', 'None', 'None', 'None', 'None', 'None', 'None', 'None', 'None', 'None', 'None', 'None', 'None', 'None', 'None', 'None', 'None', 'None', 'None', 'None', 'None', 'None', 'None', 'None', 'None', 'None', 'None', 'None', 'None', 'None', 'None', 'None', 'None', 'None', 'None')"
     ]
    }
   ],
   "source": [
    "# print(np.shape(X_train), np.shape(Y_train))\n",
    "# keras.config.enable_traceback_filtering()\n",
    "lista = [n for n in X_train]\n",
    "model.fit(lista, list, epochs=20, batch_size=1029)\n",
    "model.summary()"
   ]
  },
  {
   "cell_type": "code",
   "execution_count": null,
   "metadata": {},
   "outputs": [],
   "source": [
    "# Supongamos que X_train contiene las características de audio segmentadas y y_train las etiquetas correspondientes\n",
    "# X_train.shape = (num_samples, num_timesteps, num_features)\n",
    "# y_train.shape = (num_samples, num_timesteps, num_emotions)\n",
    "print(np.shape(spectrogram_data), np.shape(times), np.shape(spectrogram_data[1]))\n",
    "X_train = np.array([spectrogram_data[0], times, spectrogram_data[1]])\n",
    "print(X_train)\n",
    "\n",
    "#model.fit(X_train, y_train, epochs=10, batch_size=32, validation_split=0.2)"
   ]
  },
  {
   "cell_type": "code",
   "execution_count": null,
   "metadata": {},
   "outputs": [],
   "source": [
    "plt.scatter(frequencies, spectrogram_data[194], label=\"test\", color=\"k\", s=25, marker=\".\")\n",
    "plt.xlabel(\"Frecuencias\")\n",
    "plt.ylabel(\"Intensidad (dB)\")\n",
    "plt.title(\"ah?\")\n",
    "plt.show()"
   ]
  }
 ],
 "metadata": {
  "kernelspec": {
   "display_name": "audio",
   "language": "python",
   "name": "python3"
  },
  "language_info": {
   "codemirror_mode": {
    "name": "ipython",
    "version": 3
   },
   "file_extension": ".py",
   "mimetype": "text/x-python",
   "name": "python",
   "nbconvert_exporter": "python",
   "pygments_lexer": "ipython3",
   "version": "3.12.3"
  }
 },
 "nbformat": 4,
 "nbformat_minor": 2
}
